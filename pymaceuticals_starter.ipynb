{
 "cells": [
  {
   "attachments": {},
   "cell_type": "markdown",
   "metadata": {},
   "source": [
    "# Pymaceuticals Inc.\n",
    "---\n",
    "\n",
    "### Analysis\n",
    "\n",
    "Key Insights: \n",
    "\n",
    "This experiment compares the effectiveness of our companies drug of interest (Capomulin) against other drugs in terms of the reduction of tumor sizes.Upon concluding this experiment and analyzing the results, here are my top insights:\n",
    "\n",
    "\n",
    "Weight vs Tumor Size:\n",
    "A resulting .834 correlation value of the mice involved concludes that there is a strong  and positive correlation between Weight vs Tumor Size meaning that overall, larger mice had larger tumors. Due to this, we can use this information to understand and potentially predict how tumor volume may change with changes in mouse weight.\n",
    "\n",
    "Capomulin VS Other Drugs\n",
    "Data shows that the drug Ramicane performed similarly to our drug of interest. While Capomilin performed better between the two, it was only a slight lead. These results are promising and indicate that an interest should be made on Ramicane as well as Capomulin. However, it is worth noting that in comparison to these two drugs, the remaining drugs had a lower amount of observed data points with Proviva being the lowest. A case could be made to push for more experiments with a closer value of observed points per each mouse. \n",
    "\n",
    "\n",
    "\n",
    "\n",
    "\n",
    "\n",
    "\n",
    "\n",
    "\n",
    "\n",
    "\n",
    "Regenerate\n"
   ]
  },
  {
   "cell_type": "code",
   "execution_count": 1,
   "metadata": {},
   "outputs": [
    {
     "data": {
      "text/html": [
       "<div>\n",
       "<style scoped>\n",
       "    .dataframe tbody tr th:only-of-type {\n",
       "        vertical-align: middle;\n",
       "    }\n",
       "\n",
       "    .dataframe tbody tr th {\n",
       "        vertical-align: top;\n",
       "    }\n",
       "\n",
       "    .dataframe thead th {\n",
       "        text-align: right;\n",
       "    }\n",
       "</style>\n",
       "<table border=\"1\" class=\"dataframe\">\n",
       "  <thead>\n",
       "    <tr style=\"text-align: right;\">\n",
       "      <th></th>\n",
       "      <th>Mouse ID</th>\n",
       "      <th>Timepoint</th>\n",
       "      <th>Tumor Volume (mm3)</th>\n",
       "      <th>Metastatic Sites</th>\n",
       "      <th>Drug Regimen</th>\n",
       "      <th>Sex</th>\n",
       "      <th>Age_months</th>\n",
       "      <th>Weight (g)</th>\n",
       "    </tr>\n",
       "  </thead>\n",
       "  <tbody>\n",
       "    <tr>\n",
       "      <th>0</th>\n",
       "      <td>k403</td>\n",
       "      <td>0</td>\n",
       "      <td>45.000000</td>\n",
       "      <td>0</td>\n",
       "      <td>Ramicane</td>\n",
       "      <td>Male</td>\n",
       "      <td>21</td>\n",
       "      <td>16</td>\n",
       "    </tr>\n",
       "    <tr>\n",
       "      <th>1</th>\n",
       "      <td>k403</td>\n",
       "      <td>5</td>\n",
       "      <td>38.825898</td>\n",
       "      <td>0</td>\n",
       "      <td>Ramicane</td>\n",
       "      <td>Male</td>\n",
       "      <td>21</td>\n",
       "      <td>16</td>\n",
       "    </tr>\n",
       "    <tr>\n",
       "      <th>2</th>\n",
       "      <td>k403</td>\n",
       "      <td>10</td>\n",
       "      <td>35.014271</td>\n",
       "      <td>1</td>\n",
       "      <td>Ramicane</td>\n",
       "      <td>Male</td>\n",
       "      <td>21</td>\n",
       "      <td>16</td>\n",
       "    </tr>\n",
       "    <tr>\n",
       "      <th>3</th>\n",
       "      <td>k403</td>\n",
       "      <td>15</td>\n",
       "      <td>34.223992</td>\n",
       "      <td>1</td>\n",
       "      <td>Ramicane</td>\n",
       "      <td>Male</td>\n",
       "      <td>21</td>\n",
       "      <td>16</td>\n",
       "    </tr>\n",
       "    <tr>\n",
       "      <th>4</th>\n",
       "      <td>k403</td>\n",
       "      <td>20</td>\n",
       "      <td>32.997729</td>\n",
       "      <td>1</td>\n",
       "      <td>Ramicane</td>\n",
       "      <td>Male</td>\n",
       "      <td>21</td>\n",
       "      <td>16</td>\n",
       "    </tr>\n",
       "  </tbody>\n",
       "</table>\n",
       "</div>"
      ],
      "text/plain": [
       "  Mouse ID  Timepoint  Tumor Volume (mm3)  Metastatic Sites Drug Regimen  \\\n",
       "0     k403          0           45.000000                 0     Ramicane   \n",
       "1     k403          5           38.825898                 0     Ramicane   \n",
       "2     k403         10           35.014271                 1     Ramicane   \n",
       "3     k403         15           34.223992                 1     Ramicane   \n",
       "4     k403         20           32.997729                 1     Ramicane   \n",
       "\n",
       "    Sex  Age_months  Weight (g)  \n",
       "0  Male          21          16  \n",
       "1  Male          21          16  \n",
       "2  Male          21          16  \n",
       "3  Male          21          16  \n",
       "4  Male          21          16  "
      ]
     },
     "execution_count": 1,
     "metadata": {},
     "output_type": "execute_result"
    }
   ],
   "source": [
    "# Dependencies and Setup\n",
    "import matplotlib.pyplot as plt\n",
    "import pandas as pd\n",
    "import scipy.stats as st\n",
    "import numpy as np\n",
    "import random\n",
    "from scipy.stats import pearsonr\n",
    "from scipy.stats import linregress\n",
    "\n",
    "\n",
    "\n",
    "# Study data files\n",
    "mouse_metadata_path = \"data/Mouse_metadata.csv\"\n",
    "study_results_path = \"data/Study_results.csv\"\n",
    "\n",
    "# Read the mouse data and the study results\n",
    "mouse_metadata = pd.read_csv(mouse_metadata_path)\n",
    "study_results = pd.read_csv(study_results_path)\n",
    "\n",
    "# Combine the data into a single DataFrame\n",
    "data = pd.merge(mouse_metadata,study_results, on=\"Mouse ID\")\n",
    "new_order = ['Mouse ID',\n",
    " 'Timepoint',\n",
    " 'Tumor Volume (mm3)',\n",
    " 'Metastatic Sites',\n",
    " 'Drug Regimen',\n",
    " 'Sex',\n",
    " 'Age_months',\n",
    " 'Weight (g)']\n",
    "# Display the data table for preview\n",
    "data = data[new_order]\n",
    "data.head()"
   ]
  },
  {
   "cell_type": "code",
   "execution_count": 2,
   "metadata": {},
   "outputs": [
    {
     "data": {
      "text/plain": [
       "249"
      ]
     },
     "execution_count": 2,
     "metadata": {},
     "output_type": "execute_result"
    }
   ],
   "source": [
    "# Checking the number of mice.\n",
    "len(data[\"Mouse ID\"].unique())"
   ]
  },
  {
   "cell_type": "code",
   "execution_count": 3,
   "metadata": {},
   "outputs": [],
   "source": [
    "# dupes = data.duplicated(subset=['Mouse ID', 'Timepoint'])\n",
    "# data[dupes]"
   ]
  },
  {
   "cell_type": "code",
   "execution_count": 4,
   "metadata": {},
   "outputs": [
    {
     "data": {
      "text/plain": [
       "array(['g989'], dtype=object)"
      ]
     },
     "execution_count": 4,
     "metadata": {},
     "output_type": "execute_result"
    }
   ],
   "source": [
    "# Our data should be uniquely identified by Mouse ID and Timepoint\n",
    "# Get the duplicate mice by ID number that shows up for Mouse ID and Timepoint. \n",
    "dupes = data.duplicated(subset=['Mouse ID', 'Timepoint'])\n",
    "dupe_id = np.array(data[dupes][\"Mouse ID\"].unique())\n",
    "dupe_id\n"
   ]
  },
  {
   "cell_type": "code",
   "execution_count": 5,
   "metadata": {},
   "outputs": [
    {
     "data": {
      "text/html": [
       "<div>\n",
       "<style scoped>\n",
       "    .dataframe tbody tr th:only-of-type {\n",
       "        vertical-align: middle;\n",
       "    }\n",
       "\n",
       "    .dataframe tbody tr th {\n",
       "        vertical-align: top;\n",
       "    }\n",
       "\n",
       "    .dataframe thead th {\n",
       "        text-align: right;\n",
       "    }\n",
       "</style>\n",
       "<table border=\"1\" class=\"dataframe\">\n",
       "  <thead>\n",
       "    <tr style=\"text-align: right;\">\n",
       "      <th></th>\n",
       "      <th>Mouse ID</th>\n",
       "      <th>Timepoint</th>\n",
       "      <th>Tumor Volume (mm3)</th>\n",
       "      <th>Metastatic Sites</th>\n",
       "      <th>Drug Regimen</th>\n",
       "      <th>Sex</th>\n",
       "      <th>Age_months</th>\n",
       "      <th>Weight (g)</th>\n",
       "    </tr>\n",
       "  </thead>\n",
       "  <tbody>\n",
       "    <tr>\n",
       "      <th>908</th>\n",
       "      <td>g989</td>\n",
       "      <td>0</td>\n",
       "      <td>45.000000</td>\n",
       "      <td>0</td>\n",
       "      <td>Propriva</td>\n",
       "      <td>Female</td>\n",
       "      <td>21</td>\n",
       "      <td>26</td>\n",
       "    </tr>\n",
       "    <tr>\n",
       "      <th>909</th>\n",
       "      <td>g989</td>\n",
       "      <td>0</td>\n",
       "      <td>45.000000</td>\n",
       "      <td>0</td>\n",
       "      <td>Propriva</td>\n",
       "      <td>Female</td>\n",
       "      <td>21</td>\n",
       "      <td>26</td>\n",
       "    </tr>\n",
       "    <tr>\n",
       "      <th>910</th>\n",
       "      <td>g989</td>\n",
       "      <td>5</td>\n",
       "      <td>48.786801</td>\n",
       "      <td>0</td>\n",
       "      <td>Propriva</td>\n",
       "      <td>Female</td>\n",
       "      <td>21</td>\n",
       "      <td>26</td>\n",
       "    </tr>\n",
       "    <tr>\n",
       "      <th>911</th>\n",
       "      <td>g989</td>\n",
       "      <td>5</td>\n",
       "      <td>47.570392</td>\n",
       "      <td>0</td>\n",
       "      <td>Propriva</td>\n",
       "      <td>Female</td>\n",
       "      <td>21</td>\n",
       "      <td>26</td>\n",
       "    </tr>\n",
       "    <tr>\n",
       "      <th>912</th>\n",
       "      <td>g989</td>\n",
       "      <td>10</td>\n",
       "      <td>51.745156</td>\n",
       "      <td>0</td>\n",
       "      <td>Propriva</td>\n",
       "      <td>Female</td>\n",
       "      <td>21</td>\n",
       "      <td>26</td>\n",
       "    </tr>\n",
       "    <tr>\n",
       "      <th>913</th>\n",
       "      <td>g989</td>\n",
       "      <td>10</td>\n",
       "      <td>49.880528</td>\n",
       "      <td>0</td>\n",
       "      <td>Propriva</td>\n",
       "      <td>Female</td>\n",
       "      <td>21</td>\n",
       "      <td>26</td>\n",
       "    </tr>\n",
       "    <tr>\n",
       "      <th>914</th>\n",
       "      <td>g989</td>\n",
       "      <td>15</td>\n",
       "      <td>51.325852</td>\n",
       "      <td>1</td>\n",
       "      <td>Propriva</td>\n",
       "      <td>Female</td>\n",
       "      <td>21</td>\n",
       "      <td>26</td>\n",
       "    </tr>\n",
       "    <tr>\n",
       "      <th>915</th>\n",
       "      <td>g989</td>\n",
       "      <td>15</td>\n",
       "      <td>53.442020</td>\n",
       "      <td>0</td>\n",
       "      <td>Propriva</td>\n",
       "      <td>Female</td>\n",
       "      <td>21</td>\n",
       "      <td>26</td>\n",
       "    </tr>\n",
       "    <tr>\n",
       "      <th>916</th>\n",
       "      <td>g989</td>\n",
       "      <td>20</td>\n",
       "      <td>55.326122</td>\n",
       "      <td>1</td>\n",
       "      <td>Propriva</td>\n",
       "      <td>Female</td>\n",
       "      <td>21</td>\n",
       "      <td>26</td>\n",
       "    </tr>\n",
       "    <tr>\n",
       "      <th>917</th>\n",
       "      <td>g989</td>\n",
       "      <td>20</td>\n",
       "      <td>54.657650</td>\n",
       "      <td>1</td>\n",
       "      <td>Propriva</td>\n",
       "      <td>Female</td>\n",
       "      <td>21</td>\n",
       "      <td>26</td>\n",
       "    </tr>\n",
       "    <tr>\n",
       "      <th>918</th>\n",
       "      <td>g989</td>\n",
       "      <td>25</td>\n",
       "      <td>56.045564</td>\n",
       "      <td>1</td>\n",
       "      <td>Propriva</td>\n",
       "      <td>Female</td>\n",
       "      <td>21</td>\n",
       "      <td>26</td>\n",
       "    </tr>\n",
       "    <tr>\n",
       "      <th>919</th>\n",
       "      <td>g989</td>\n",
       "      <td>30</td>\n",
       "      <td>59.082294</td>\n",
       "      <td>1</td>\n",
       "      <td>Propriva</td>\n",
       "      <td>Female</td>\n",
       "      <td>21</td>\n",
       "      <td>26</td>\n",
       "    </tr>\n",
       "    <tr>\n",
       "      <th>920</th>\n",
       "      <td>g989</td>\n",
       "      <td>35</td>\n",
       "      <td>62.570880</td>\n",
       "      <td>2</td>\n",
       "      <td>Propriva</td>\n",
       "      <td>Female</td>\n",
       "      <td>21</td>\n",
       "      <td>26</td>\n",
       "    </tr>\n",
       "  </tbody>\n",
       "</table>\n",
       "</div>"
      ],
      "text/plain": [
       "    Mouse ID  Timepoint  Tumor Volume (mm3)  Metastatic Sites Drug Regimen  \\\n",
       "908     g989          0           45.000000                 0     Propriva   \n",
       "909     g989          0           45.000000                 0     Propriva   \n",
       "910     g989          5           48.786801                 0     Propriva   \n",
       "911     g989          5           47.570392                 0     Propriva   \n",
       "912     g989         10           51.745156                 0     Propriva   \n",
       "913     g989         10           49.880528                 0     Propriva   \n",
       "914     g989         15           51.325852                 1     Propriva   \n",
       "915     g989         15           53.442020                 0     Propriva   \n",
       "916     g989         20           55.326122                 1     Propriva   \n",
       "917     g989         20           54.657650                 1     Propriva   \n",
       "918     g989         25           56.045564                 1     Propriva   \n",
       "919     g989         30           59.082294                 1     Propriva   \n",
       "920     g989         35           62.570880                 2     Propriva   \n",
       "\n",
       "        Sex  Age_months  Weight (g)  \n",
       "908  Female          21          26  \n",
       "909  Female          21          26  \n",
       "910  Female          21          26  \n",
       "911  Female          21          26  \n",
       "912  Female          21          26  \n",
       "913  Female          21          26  \n",
       "914  Female          21          26  \n",
       "915  Female          21          26  \n",
       "916  Female          21          26  \n",
       "917  Female          21          26  \n",
       "918  Female          21          26  \n",
       "919  Female          21          26  \n",
       "920  Female          21          26  "
      ]
     },
     "execution_count": 5,
     "metadata": {},
     "output_type": "execute_result"
    }
   ],
   "source": [
    "# Optional: Get all the data for the duplicate mouse ID. \n",
    "data[data[\"Mouse ID\"] == dupe_id[0]]"
   ]
  },
  {
   "cell_type": "code",
   "execution_count": 6,
   "metadata": {},
   "outputs": [
    {
     "data": {
      "text/html": [
       "<div>\n",
       "<style scoped>\n",
       "    .dataframe tbody tr th:only-of-type {\n",
       "        vertical-align: middle;\n",
       "    }\n",
       "\n",
       "    .dataframe tbody tr th {\n",
       "        vertical-align: top;\n",
       "    }\n",
       "\n",
       "    .dataframe thead th {\n",
       "        text-align: right;\n",
       "    }\n",
       "</style>\n",
       "<table border=\"1\" class=\"dataframe\">\n",
       "  <thead>\n",
       "    <tr style=\"text-align: right;\">\n",
       "      <th></th>\n",
       "      <th>Mouse ID</th>\n",
       "      <th>Timepoint</th>\n",
       "      <th>Tumor Volume (mm3)</th>\n",
       "      <th>Metastatic Sites</th>\n",
       "      <th>Drug Regimen</th>\n",
       "      <th>Sex</th>\n",
       "      <th>Age_months</th>\n",
       "      <th>Weight (g)</th>\n",
       "    </tr>\n",
       "  </thead>\n",
       "  <tbody>\n",
       "    <tr>\n",
       "      <th>0</th>\n",
       "      <td>k403</td>\n",
       "      <td>0</td>\n",
       "      <td>45.000000</td>\n",
       "      <td>0</td>\n",
       "      <td>Ramicane</td>\n",
       "      <td>Male</td>\n",
       "      <td>21</td>\n",
       "      <td>16</td>\n",
       "    </tr>\n",
       "    <tr>\n",
       "      <th>1</th>\n",
       "      <td>k403</td>\n",
       "      <td>5</td>\n",
       "      <td>38.825898</td>\n",
       "      <td>0</td>\n",
       "      <td>Ramicane</td>\n",
       "      <td>Male</td>\n",
       "      <td>21</td>\n",
       "      <td>16</td>\n",
       "    </tr>\n",
       "    <tr>\n",
       "      <th>2</th>\n",
       "      <td>k403</td>\n",
       "      <td>10</td>\n",
       "      <td>35.014271</td>\n",
       "      <td>1</td>\n",
       "      <td>Ramicane</td>\n",
       "      <td>Male</td>\n",
       "      <td>21</td>\n",
       "      <td>16</td>\n",
       "    </tr>\n",
       "    <tr>\n",
       "      <th>3</th>\n",
       "      <td>k403</td>\n",
       "      <td>15</td>\n",
       "      <td>34.223992</td>\n",
       "      <td>1</td>\n",
       "      <td>Ramicane</td>\n",
       "      <td>Male</td>\n",
       "      <td>21</td>\n",
       "      <td>16</td>\n",
       "    </tr>\n",
       "    <tr>\n",
       "      <th>4</th>\n",
       "      <td>k403</td>\n",
       "      <td>20</td>\n",
       "      <td>32.997729</td>\n",
       "      <td>1</td>\n",
       "      <td>Ramicane</td>\n",
       "      <td>Male</td>\n",
       "      <td>21</td>\n",
       "      <td>16</td>\n",
       "    </tr>\n",
       "  </tbody>\n",
       "</table>\n",
       "</div>"
      ],
      "text/plain": [
       "  Mouse ID  Timepoint  Tumor Volume (mm3)  Metastatic Sites Drug Regimen  \\\n",
       "0     k403          0           45.000000                 0     Ramicane   \n",
       "1     k403          5           38.825898                 0     Ramicane   \n",
       "2     k403         10           35.014271                 1     Ramicane   \n",
       "3     k403         15           34.223992                 1     Ramicane   \n",
       "4     k403         20           32.997729                 1     Ramicane   \n",
       "\n",
       "    Sex  Age_months  Weight (g)  \n",
       "0  Male          21          16  \n",
       "1  Male          21          16  \n",
       "2  Male          21          16  \n",
       "3  Male          21          16  \n",
       "4  Male          21          16  "
      ]
     },
     "execution_count": 6,
     "metadata": {},
     "output_type": "execute_result"
    }
   ],
   "source": [
    "# Create a clean DataFrame by dropping the duplicate mouse by its ID.\n",
    "df = data[data[\"Mouse ID\"]!= dupe_id[0]]\n",
    "df.head()"
   ]
  },
  {
   "cell_type": "code",
   "execution_count": 7,
   "metadata": {},
   "outputs": [
    {
     "data": {
      "text/plain": [
       "248"
      ]
     },
     "execution_count": 7,
     "metadata": {},
     "output_type": "execute_result"
    }
   ],
   "source": [
    "# Checking the number of mice in the clean DataFrame.\n",
    "len(df[\"Mouse ID\"].unique())"
   ]
  },
  {
   "cell_type": "markdown",
   "metadata": {},
   "source": [
    "## Summary Statistics"
   ]
  },
  {
   "cell_type": "code",
   "execution_count": 8,
   "metadata": {},
   "outputs": [
    {
     "data": {
      "text/html": [
       "<div>\n",
       "<style scoped>\n",
       "    .dataframe tbody tr th:only-of-type {\n",
       "        vertical-align: middle;\n",
       "    }\n",
       "\n",
       "    .dataframe tbody tr th {\n",
       "        vertical-align: top;\n",
       "    }\n",
       "\n",
       "    .dataframe thead th {\n",
       "        text-align: right;\n",
       "    }\n",
       "</style>\n",
       "<table border=\"1\" class=\"dataframe\">\n",
       "  <thead>\n",
       "    <tr style=\"text-align: right;\">\n",
       "      <th></th>\n",
       "      <th>Mean Tumor Volume</th>\n",
       "      <th>Median Tumor Volume</th>\n",
       "      <th>Tumor Volume Variance</th>\n",
       "      <th>Tumor Volume Std. Dev.</th>\n",
       "      <th>Tumor Volume Std. Err.</th>\n",
       "    </tr>\n",
       "    <tr>\n",
       "      <th>Drug Regimen</th>\n",
       "      <th></th>\n",
       "      <th></th>\n",
       "      <th></th>\n",
       "      <th></th>\n",
       "      <th></th>\n",
       "    </tr>\n",
       "  </thead>\n",
       "  <tbody>\n",
       "    <tr>\n",
       "      <th>Capomulin</th>\n",
       "      <td>40.675741</td>\n",
       "      <td>41.557809</td>\n",
       "      <td>24.947764</td>\n",
       "      <td>4.994774</td>\n",
       "      <td>0.329346</td>\n",
       "    </tr>\n",
       "    <tr>\n",
       "      <th>Ceftamin</th>\n",
       "      <td>52.591172</td>\n",
       "      <td>51.776157</td>\n",
       "      <td>39.290177</td>\n",
       "      <td>6.268188</td>\n",
       "      <td>0.469821</td>\n",
       "    </tr>\n",
       "    <tr>\n",
       "      <th>Infubinol</th>\n",
       "      <td>52.884795</td>\n",
       "      <td>51.820584</td>\n",
       "      <td>43.128684</td>\n",
       "      <td>6.567243</td>\n",
       "      <td>0.492236</td>\n",
       "    </tr>\n",
       "    <tr>\n",
       "      <th>Ketapril</th>\n",
       "      <td>55.235638</td>\n",
       "      <td>53.698743</td>\n",
       "      <td>68.553577</td>\n",
       "      <td>8.279709</td>\n",
       "      <td>0.603860</td>\n",
       "    </tr>\n",
       "    <tr>\n",
       "      <th>Naftisol</th>\n",
       "      <td>54.331565</td>\n",
       "      <td>52.509285</td>\n",
       "      <td>66.173479</td>\n",
       "      <td>8.134708</td>\n",
       "      <td>0.596466</td>\n",
       "    </tr>\n",
       "    <tr>\n",
       "      <th>Placebo</th>\n",
       "      <td>54.033581</td>\n",
       "      <td>52.288934</td>\n",
       "      <td>61.168083</td>\n",
       "      <td>7.821003</td>\n",
       "      <td>0.581331</td>\n",
       "    </tr>\n",
       "    <tr>\n",
       "      <th>Propriva</th>\n",
       "      <td>52.320930</td>\n",
       "      <td>50.446266</td>\n",
       "      <td>43.852013</td>\n",
       "      <td>6.622085</td>\n",
       "      <td>0.544332</td>\n",
       "    </tr>\n",
       "    <tr>\n",
       "      <th>Ramicane</th>\n",
       "      <td>40.216745</td>\n",
       "      <td>40.673236</td>\n",
       "      <td>23.486704</td>\n",
       "      <td>4.846308</td>\n",
       "      <td>0.320955</td>\n",
       "    </tr>\n",
       "    <tr>\n",
       "      <th>Stelasyn</th>\n",
       "      <td>54.233149</td>\n",
       "      <td>52.431737</td>\n",
       "      <td>59.450562</td>\n",
       "      <td>7.710419</td>\n",
       "      <td>0.573111</td>\n",
       "    </tr>\n",
       "    <tr>\n",
       "      <th>Zoniferol</th>\n",
       "      <td>53.236507</td>\n",
       "      <td>51.818479</td>\n",
       "      <td>48.533355</td>\n",
       "      <td>6.966589</td>\n",
       "      <td>0.516398</td>\n",
       "    </tr>\n",
       "  </tbody>\n",
       "</table>\n",
       "</div>"
      ],
      "text/plain": [
       "              Mean Tumor Volume  Median Tumor Volume  Tumor Volume Variance  \\\n",
       "Drug Regimen                                                                  \n",
       "Capomulin             40.675741            41.557809              24.947764   \n",
       "Ceftamin              52.591172            51.776157              39.290177   \n",
       "Infubinol             52.884795            51.820584              43.128684   \n",
       "Ketapril              55.235638            53.698743              68.553577   \n",
       "Naftisol              54.331565            52.509285              66.173479   \n",
       "Placebo               54.033581            52.288934              61.168083   \n",
       "Propriva              52.320930            50.446266              43.852013   \n",
       "Ramicane              40.216745            40.673236              23.486704   \n",
       "Stelasyn              54.233149            52.431737              59.450562   \n",
       "Zoniferol             53.236507            51.818479              48.533355   \n",
       "\n",
       "              Tumor Volume Std. Dev.  Tumor Volume Std. Err.  \n",
       "Drug Regimen                                                  \n",
       "Capomulin                   4.994774                0.329346  \n",
       "Ceftamin                    6.268188                0.469821  \n",
       "Infubinol                   6.567243                0.492236  \n",
       "Ketapril                    8.279709                0.603860  \n",
       "Naftisol                    8.134708                0.596466  \n",
       "Placebo                     7.821003                0.581331  \n",
       "Propriva                    6.622085                0.544332  \n",
       "Ramicane                    4.846308                0.320955  \n",
       "Stelasyn                    7.710419                0.573111  \n",
       "Zoniferol                   6.966589                0.516398  "
      ]
     },
     "execution_count": 8,
     "metadata": {},
     "output_type": "execute_result"
    }
   ],
   "source": [
    "# Generate a summary statistics table of mean, median, variance, standard deviation, and SEM of the tumor volume for each regimen\n",
    "df_grp = df.groupby('Drug Regimen')\n",
    "\n",
    "mean = df_grp['Tumor Volume (mm3)'].mean()\n",
    "median = df_grp['Tumor Volume (mm3)'].median()\n",
    "variance = df_grp['Tumor Volume (mm3)'].var()\n",
    "std_dev = df_grp['Tumor Volume (mm3)'].std()\n",
    "sem = df_grp['Tumor Volume (mm3)'].sem()\n",
    "\n",
    "\n",
    "stat_summary = pd.DataFrame({\"Mean Tumor Volume\":mean,\n",
    "                             \"Median Tumor Volume\": median,\n",
    "                             \"Tumor Volume Variance\": variance,\n",
    "                             \"Tumor Volume Std. Dev.\": std_dev,\n",
    "                             \"Tumor Volume Std. Err.\": sem})\n",
    "stat_summary\n",
    "\n",
    "# Use groupby and summary statistical methods to calculate the following properties of each drug regimen: \n",
    "# mean, median, variance, standard deviation, and SEM of the tumor volume. \n",
    "# Assemble the resulting series into a single summary DataFrame.\n"
   ]
  },
  {
   "cell_type": "code",
   "execution_count": 9,
   "metadata": {},
   "outputs": [
    {
     "data": {
      "text/html": [
       "<div>\n",
       "<style scoped>\n",
       "    .dataframe tbody tr th:only-of-type {\n",
       "        vertical-align: middle;\n",
       "    }\n",
       "\n",
       "    .dataframe tbody tr th {\n",
       "        vertical-align: top;\n",
       "    }\n",
       "\n",
       "    .dataframe thead tr th {\n",
       "        text-align: left;\n",
       "    }\n",
       "\n",
       "    .dataframe thead tr:last-of-type th {\n",
       "        text-align: right;\n",
       "    }\n",
       "</style>\n",
       "<table border=\"1\" class=\"dataframe\">\n",
       "  <thead>\n",
       "    <tr>\n",
       "      <th></th>\n",
       "      <th colspan=\"5\" halign=\"left\">Tumor Volume (mm3)</th>\n",
       "    </tr>\n",
       "    <tr>\n",
       "      <th></th>\n",
       "      <th>mean</th>\n",
       "      <th>median</th>\n",
       "      <th>var</th>\n",
       "      <th>std</th>\n",
       "      <th>sem</th>\n",
       "    </tr>\n",
       "    <tr>\n",
       "      <th>Drug Regimen</th>\n",
       "      <th></th>\n",
       "      <th></th>\n",
       "      <th></th>\n",
       "      <th></th>\n",
       "      <th></th>\n",
       "    </tr>\n",
       "  </thead>\n",
       "  <tbody>\n",
       "    <tr>\n",
       "      <th>Capomulin</th>\n",
       "      <td>40.675741</td>\n",
       "      <td>41.557809</td>\n",
       "      <td>24.947764</td>\n",
       "      <td>4.994774</td>\n",
       "      <td>0.329346</td>\n",
       "    </tr>\n",
       "    <tr>\n",
       "      <th>Ceftamin</th>\n",
       "      <td>52.591172</td>\n",
       "      <td>51.776157</td>\n",
       "      <td>39.290177</td>\n",
       "      <td>6.268188</td>\n",
       "      <td>0.469821</td>\n",
       "    </tr>\n",
       "    <tr>\n",
       "      <th>Infubinol</th>\n",
       "      <td>52.884795</td>\n",
       "      <td>51.820584</td>\n",
       "      <td>43.128684</td>\n",
       "      <td>6.567243</td>\n",
       "      <td>0.492236</td>\n",
       "    </tr>\n",
       "    <tr>\n",
       "      <th>Ketapril</th>\n",
       "      <td>55.235638</td>\n",
       "      <td>53.698743</td>\n",
       "      <td>68.553577</td>\n",
       "      <td>8.279709</td>\n",
       "      <td>0.603860</td>\n",
       "    </tr>\n",
       "    <tr>\n",
       "      <th>Naftisol</th>\n",
       "      <td>54.331565</td>\n",
       "      <td>52.509285</td>\n",
       "      <td>66.173479</td>\n",
       "      <td>8.134708</td>\n",
       "      <td>0.596466</td>\n",
       "    </tr>\n",
       "    <tr>\n",
       "      <th>Placebo</th>\n",
       "      <td>54.033581</td>\n",
       "      <td>52.288934</td>\n",
       "      <td>61.168083</td>\n",
       "      <td>7.821003</td>\n",
       "      <td>0.581331</td>\n",
       "    </tr>\n",
       "    <tr>\n",
       "      <th>Propriva</th>\n",
       "      <td>52.320930</td>\n",
       "      <td>50.446266</td>\n",
       "      <td>43.852013</td>\n",
       "      <td>6.622085</td>\n",
       "      <td>0.544332</td>\n",
       "    </tr>\n",
       "    <tr>\n",
       "      <th>Ramicane</th>\n",
       "      <td>40.216745</td>\n",
       "      <td>40.673236</td>\n",
       "      <td>23.486704</td>\n",
       "      <td>4.846308</td>\n",
       "      <td>0.320955</td>\n",
       "    </tr>\n",
       "    <tr>\n",
       "      <th>Stelasyn</th>\n",
       "      <td>54.233149</td>\n",
       "      <td>52.431737</td>\n",
       "      <td>59.450562</td>\n",
       "      <td>7.710419</td>\n",
       "      <td>0.573111</td>\n",
       "    </tr>\n",
       "    <tr>\n",
       "      <th>Zoniferol</th>\n",
       "      <td>53.236507</td>\n",
       "      <td>51.818479</td>\n",
       "      <td>48.533355</td>\n",
       "      <td>6.966589</td>\n",
       "      <td>0.516398</td>\n",
       "    </tr>\n",
       "  </tbody>\n",
       "</table>\n",
       "</div>"
      ],
      "text/plain": [
       "             Tumor Volume (mm3)                                          \n",
       "                           mean     median        var       std       sem\n",
       "Drug Regimen                                                             \n",
       "Capomulin             40.675741  41.557809  24.947764  4.994774  0.329346\n",
       "Ceftamin              52.591172  51.776157  39.290177  6.268188  0.469821\n",
       "Infubinol             52.884795  51.820584  43.128684  6.567243  0.492236\n",
       "Ketapril              55.235638  53.698743  68.553577  8.279709  0.603860\n",
       "Naftisol              54.331565  52.509285  66.173479  8.134708  0.596466\n",
       "Placebo               54.033581  52.288934  61.168083  7.821003  0.581331\n",
       "Propriva              52.320930  50.446266  43.852013  6.622085  0.544332\n",
       "Ramicane              40.216745  40.673236  23.486704  4.846308  0.320955\n",
       "Stelasyn              54.233149  52.431737  59.450562  7.710419  0.573111\n",
       "Zoniferol             53.236507  51.818479  48.533355  6.966589  0.516398"
      ]
     },
     "execution_count": 9,
     "metadata": {},
     "output_type": "execute_result"
    }
   ],
   "source": [
    "# A more advanced method to generate a summary statistics table of mean, median, variance, standard deviation,\n",
    "# and SEM of the tumor volume for each regimen (only one method is required in the solution)\n",
    "\n",
    "# Using the aggregation method, produce the same summary statistics in a single line\n",
    "\n",
    "adv_stats =   df_grp.agg({'Tumor Volume (mm3)': ['mean', 'median','var','std','sem']})\n",
    "\n",
    "adv_stats\n",
    "\n"
   ]
  },
  {
   "cell_type": "markdown",
   "metadata": {},
   "source": [
    "## Bar and Pie Charts"
   ]
  },
  {
   "cell_type": "code",
   "execution_count": 10,
   "metadata": {},
   "outputs": [
    {
     "data": {
      "image/png": "[encoded data removed]",
      "text/plain": [
       "<Figure size 640x480 with 1 Axes>"
      ]
     },
     "metadata": {},
     "output_type": "display_data"
    }
   ],
   "source": [
    "# Generate a bar plot showing the total number of rows (Mouse ID/Timepoints) for each drug regimen using Pandas.\n",
    "df['Drug Regimen'].value_counts().plot(kind = 'bar',rot = 45)\n",
    "\n",
    "plt.xlabel('Drug Regimen')\n",
    "plt.ylabel('# of Observed Mouse Timepoints')\n",
    "plt.tight_layout()\n",
    "\n"
   ]
  },
  {
   "cell_type": "code",
   "execution_count": 11,
   "metadata": {},
   "outputs": [
    {
     "data": {
      "text/plain": [
       "([0, 1, 2, 3, 4, 5, 6, 7, 8, 9],\n",
       " [Text(0, 0, 'Capomulin'),\n",
       "  Text(1, 0, 'Ramicane'),\n",
       "  Text(2, 0, 'Ketapril'),\n",
       "  Text(3, 0, 'Naftisol'),\n",
       "  Text(4, 0, 'Zoniferol'),\n",
       "  Text(5, 0, 'Placebo'),\n",
       "  Text(6, 0, 'Stelasyn'),\n",
       "  Text(7, 0, 'Infubinol'),\n",
       "  Text(8, 0, 'Ceftamin'),\n",
       "  Text(9, 0, 'Propriva')])"
      ]
     },
     "execution_count": 11,
     "metadata": {},
     "output_type": "execute_result"
    },
    {
     "data": {
      "image/png": "[encoded data removed]",
      "text/plain": [
       "<Figure size 640x480 with 1 Axes>"
      ]
     },
     "metadata": {},
     "output_type": "display_data"
    }
   ],
   "source": [
    "# Generate a bar plot showing the total number of rows (Mouse ID/Timepoints) for each drug regimen using pyplot.\n",
    "counts = df['Drug Regimen'].value_counts()\n",
    "\n",
    "plt.xlabel('Drug Regimen')\n",
    "plt.ylabel('# of Observed Mouse Timepoints')\n",
    "plt.bar(counts.index,counts.values)\n",
    "plt.xticks(rotation=45)"
   ]
  },
  {
   "cell_type": "code",
   "execution_count": 12,
   "metadata": {},
   "outputs": [
    {
     "data": {
      "text/plain": [
       "Text(0, 0.5, 'Sex')"
      ]
     },
     "execution_count": 12,
     "metadata": {},
     "output_type": "execute_result"
    },
    {
     "data": {
      "image/png": "[encoded data removed]",
      "text/plain": [
       "<Figure size 640x480 with 1 Axes>"
      ]
     },
     "metadata": {},
     "output_type": "display_data"
    }
   ],
   "source": [
    "# Generate a pie plot showing the distribution of female versus male mice using Pandas\n",
    "df[\"Sex\"].value_counts().plot(kind = 'pie',autopct='%1.1f%%')\n",
    "plt.xlabel(\"\")\n",
    "plt.ylabel(\"Sex\")"
   ]
  },
  {
   "cell_type": "code",
   "execution_count": 13,
   "metadata": {},
   "outputs": [
    {
     "data": {
      "image/png": "[encoded data removed]",
      "text/plain": [
       "<Figure size 640x480 with 1 Axes>"
      ]
     },
     "metadata": {},
     "output_type": "display_data"
    }
   ],
   "source": [
    "# Generate a pie plot showing the distribution of female versus male mice using pyplot\n",
    "counts = df[\"Sex\"].value_counts()\n",
    "\n",
    "plt.pie(counts,labels=counts.index,autopct='%1.1f%%')\n",
    "plt.xlabel(\"\")\n",
    "plt.ylabel(\"Sex\")\n",
    "plt.show()\n"
   ]
  },
  {
   "cell_type": "markdown",
   "metadata": {},
   "source": [
    "## Quartiles, Outliers and Boxplots"
   ]
  },
  {
   "cell_type": "code",
   "execution_count": 14,
   "metadata": {},
   "outputs": [
    {
     "data": {
      "text/html": [
       "<div>\n",
       "<style scoped>\n",
       "    .dataframe tbody tr th:only-of-type {\n",
       "        vertical-align: middle;\n",
       "    }\n",
       "\n",
       "    .dataframe tbody tr th {\n",
       "        vertical-align: top;\n",
       "    }\n",
       "\n",
       "    .dataframe thead th {\n",
       "        text-align: right;\n",
       "    }\n",
       "</style>\n",
       "<table border=\"1\" class=\"dataframe\">\n",
       "  <thead>\n",
       "    <tr style=\"text-align: right;\">\n",
       "      <th></th>\n",
       "      <th>Mouse ID</th>\n",
       "      <th>Timepoint</th>\n",
       "      <th>Tumor Volume (mm3)</th>\n",
       "      <th>Metastatic Sites</th>\n",
       "      <th>Drug Regimen</th>\n",
       "      <th>Sex</th>\n",
       "      <th>Age_months</th>\n",
       "      <th>Weight (g)</th>\n",
       "    </tr>\n",
       "  </thead>\n",
       "  <tbody>\n",
       "    <tr>\n",
       "      <th>0</th>\n",
       "      <td>k403</td>\n",
       "      <td>45</td>\n",
       "      <td>22.050126</td>\n",
       "      <td>1</td>\n",
       "      <td>Ramicane</td>\n",
       "      <td>Male</td>\n",
       "      <td>21</td>\n",
       "      <td>16</td>\n",
       "    </tr>\n",
       "    <tr>\n",
       "      <th>1</th>\n",
       "      <td>s185</td>\n",
       "      <td>45</td>\n",
       "      <td>23.343598</td>\n",
       "      <td>1</td>\n",
       "      <td>Capomulin</td>\n",
       "      <td>Female</td>\n",
       "      <td>3</td>\n",
       "      <td>17</td>\n",
       "    </tr>\n",
       "    <tr>\n",
       "      <th>2</th>\n",
       "      <td>x401</td>\n",
       "      <td>45</td>\n",
       "      <td>28.484033</td>\n",
       "      <td>0</td>\n",
       "      <td>Capomulin</td>\n",
       "      <td>Female</td>\n",
       "      <td>16</td>\n",
       "      <td>15</td>\n",
       "    </tr>\n",
       "    <tr>\n",
       "      <th>3</th>\n",
       "      <td>m601</td>\n",
       "      <td>45</td>\n",
       "      <td>28.430964</td>\n",
       "      <td>1</td>\n",
       "      <td>Capomulin</td>\n",
       "      <td>Male</td>\n",
       "      <td>22</td>\n",
       "      <td>17</td>\n",
       "    </tr>\n",
       "    <tr>\n",
       "      <th>4</th>\n",
       "      <td>g791</td>\n",
       "      <td>45</td>\n",
       "      <td>29.128472</td>\n",
       "      <td>1</td>\n",
       "      <td>Ramicane</td>\n",
       "      <td>Male</td>\n",
       "      <td>11</td>\n",
       "      <td>16</td>\n",
       "    </tr>\n",
       "  </tbody>\n",
       "</table>\n",
       "</div>"
      ],
      "text/plain": [
       "  Mouse ID  Timepoint  Tumor Volume (mm3)  Metastatic Sites Drug Regimen  \\\n",
       "0     k403         45           22.050126                 1     Ramicane   \n",
       "1     s185         45           23.343598                 1    Capomulin   \n",
       "2     x401         45           28.484033                 0    Capomulin   \n",
       "3     m601         45           28.430964                 1    Capomulin   \n",
       "4     g791         45           29.128472                 1     Ramicane   \n",
       "\n",
       "      Sex  Age_months  Weight (g)  \n",
       "0    Male          21          16  \n",
       "1  Female           3          17  \n",
       "2  Female          16          15  \n",
       "3    Male          22          17  \n",
       "4    Male          11          16  "
      ]
     },
     "execution_count": 14,
     "metadata": {},
     "output_type": "execute_result"
    }
   ],
   "source": [
    "# Calculate the final tumor volume of each mouse across four of the treatment regimens:  \n",
    "# Capomulin, Ramicane, Infubinol, and Ceftamin\n",
    "# Start by getting the last (greatest) timepoint for each mouse\n",
    "df_grp2 = df.groupby([\"Mouse ID\",\"Drug Regimen\"])[\"Timepoint\"].max()\n",
    "df2 = pd.DataFrame(df_grp2)\n",
    "# Merge this group df with the original DataFrame to get the tumor volume at the last timepoint\n",
    "tumor_df = pd.merge(df,df2, on = [\"Mouse ID\",\"Drug Regimen\",\"Timepoint\"],how='inner')\n",
    "# Merge this group df with the original DataFrame to get the tumor volume at the last timepoint\n",
    "tumor_df.head()"
   ]
  },
  {
   "cell_type": "code",
   "execution_count": 15,
   "metadata": {},
   "outputs": [
    {
     "name": "stdout",
     "output_type": "stream",
     "text": [
      "Capomulin's potential outliers:pot_outliers: Series([], Name: Tumor Volume (mm3), dtype: float64)\n",
      "Ramicane's potential outliers:pot_outliers: Series([], Name: Tumor Volume (mm3), dtype: float64)\n",
      "Infubinol's potential outliers:pot_outliers: 74    36.321346\n",
      "Name: Tumor Volume (mm3), dtype: float64\n",
      "Ceftamin's potential outliers:pot_outliers: Series([], Name: Tumor Volume (mm3), dtype: float64)\n"
     ]
    }
   ],
   "source": [
    "# Put treatments into a list for for loop (and later for plot labels)\n",
    "treats = ['Capomulin','Ramicane','Infubinol','Ceftamin']\n",
    "treats\n",
    "# Create empty list to fill with tumor vol data (for plotting)\n",
    "\n",
    "vol_data = []\n",
    "# # Calculate the IQR and quantitatively determine if there are any potential outliers. \n",
    "# for treat in treats: \n",
    "for treat in treats: \n",
    "    sub_df = tumor_df[tumor_df[\"Drug Regimen\"] == treat]\n",
    "    tumor_vol = sub_df[\"Tumor Volume (mm3)\"]\n",
    "    vol_data.append(tumor_vol)\n",
    "    \n",
    "    # Determine outliers using upper and lower bounds\n",
    "    quartiles = tumor_vol.quantile([0.25, 0.75])\n",
    "    lower_q = quartiles[0.25]\n",
    "    upper_q = quartiles[0.75]\n",
    "    iqr = upper_q - lower_q\n",
    "\n",
    "    lower_bound = lower_q - 1.5 * iqr\n",
    "    upper_bound = upper_q + 1.5 * iqr\n",
    "    pot_outliers = sub_df[(tumor_vol < lower_bound) | (tumor_vol > upper_bound)]\n",
    "    print(f\"{treat}'s potential outliers:pot_outliers: {pot_outliers['Tumor Volume (mm3)']}\")\n",
    "\n",
    "\n"
   ]
  },
  {
   "cell_type": "code",
   "execution_count": 16,
   "metadata": {},
   "outputs": [
    {
     "data": {
      "text/plain": [
       "Text(0, 0.5, 'Funal Tumor Volume (mm3)')"
      ]
     },
     "execution_count": 16,
     "metadata": {},
     "output_type": "execute_result"
    },
    {
     "data": {
      "image/png": "[encoded data removed]",
      "text/plain": [
       "<Figure size 640x480 with 1 Axes>"
      ]
     },
     "metadata": {},
     "output_type": "display_data"
    }
   ],
   "source": [
    "# Generate a box plot that shows the distrubution of the tumor volume for each treatment group.\n",
    "plt.boxplot(vol_data,labels=treats)\n",
    "plt.ylabel(\"Funal Tumor Volume (mm3)\")"
   ]
  },
  {
   "cell_type": "markdown",
   "metadata": {},
   "source": [
    "## Line and Scatter Plots"
   ]
  },
  {
   "cell_type": "code",
   "execution_count": 17,
   "metadata": {},
   "outputs": [
    {
     "data": {
      "text/plain": [
       "Text(0.5, 1.0, 'Data for Mouse u364')"
      ]
     },
     "execution_count": 17,
     "metadata": {},
     "output_type": "execute_result"
    },
    {
     "data": {
      "image/png": "[encoded data removed]",
      "text/plain": [
       "<Figure size 640x480 with 1 Axes>"
      ]
     },
     "metadata": {},
     "output_type": "display_data"
    }
   ],
   "source": [
    "# Generate a line plot of tumor volume vs. time point for a single mouse treated with Capomulin\n",
    "\n",
    "mouse = df[df[\"Drug Regimen\"] == \"Capomulin\"].sample(n=1)\n",
    "mouse = mouse[\"Mouse ID\"].astype('str').tolist()[0]\n",
    "\n",
    "mouse_data  = df[df[\"Mouse ID\"] == mouse]\n",
    "plt.plot(mouse_data[\"Timepoint\"],mouse_data[\"Tumor Volume (mm3)\"])\n",
    "plt.ylabel(\"Tumor Volume (mm3)\")\n",
    "plt.xlabel(\"Timepoint(days)\")\n",
    "plt.title(f\"Data for Mouse {mouse}\")"
   ]
  },
  {
   "cell_type": "code",
   "execution_count": 18,
   "metadata": {},
   "outputs": [
    {
     "data": {
      "text/plain": [
       "<matplotlib.collections.PathCollection at 0x15e982110>"
      ]
     },
     "execution_count": 18,
     "metadata": {},
     "output_type": "execute_result"
    },
    {
     "data": {
      "application/vnd.jupyter.widget-view+json": {
       "model_id": "ef4e530fa5e1492d849ad0c76115a6a8",
       "version_major": 2,
       "version_minor": 0
      },
      "image/png": "[encoded data removed]",
      "text/html": [
       "\n",
       "            <div style=\"display: inline-block;\">\n",
       "                <div class=\"jupyter-widgets widget-label\" style=\"text-align: center;\">\n",
       "                    Figure\n",
       "                </div>\n",
       "                <img src='data:image/png;base64,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' width=640.0/>\n",
       "            </div>\n",
       "        "
      ],
      "text/plain": [
       "Canvas(toolbar=Toolbar(toolitems=[('Home', 'Reset original view', 'home', 'home'), ('Back', 'Back to previous …"
      ]
     },
     "metadata": {},
     "output_type": "display_data"
    }
   ],
   "source": [
    "\n",
    "%matplotlib ipympl\n",
    "\n",
    "df3 = df[df[\"Drug Regimen\"] == \"Capomulin\"]\n",
    "\n",
    "df3_grp = df3.groupby(\"Mouse ID\")\n",
    "mouse_averages = pd.DataFrame(df3_grp[\"Tumor Volume (mm3)\"].mean())\n",
    "mouse_averages = mouse_averages.rename(columns={\"Tumor Volume (mm3)\": \"Avg Tumor Volume\"})\n",
    "df3 = pd.merge(mouse_averages,df3,on= \"Mouse ID\",how = 'left')\n",
    "\n",
    "plt.scatter(df3[\"Weight (g)\"], df3[\"Avg Tumor Volume\"])"
   ]
  },
  {
   "cell_type": "markdown",
   "metadata": {},
   "source": [
    "## Correlation and Regression"
   ]
  },
  {
   "cell_type": "code",
   "execution_count": 19,
   "metadata": {},
   "outputs": [
    {
     "name": "stdout",
     "output_type": "stream",
     "text": [
      "The correlation between mouse weight and the average tumor volume is 0.834\n"
     ]
    },
    {
     "data": {
      "text/plain": [
       "[<matplotlib.lines.Line2D at 0x15e9aafd0>]"
      ]
     },
     "execution_count": 19,
     "metadata": {},
     "output_type": "execute_result"
    }
   ],
   "source": [
    "# Calculate the correlation coefficient and a linear regression model \n",
    "# for mouse weight and average observed tumor volume for the entire Capomulin regimen\n",
    "correlation_coefficient = pearsonr(df3[\"Weight (g)\"], df3[\"Avg Tumor Volume\"])\n",
    "print(f\"The correlation between mouse weight and the average tumor volume is {correlation_coefficient[0].round(3)}\")\n",
    "plt.scatter(df3[\"Weight (g)\"], df3[\"Avg Tumor Volume\"])\n",
    "slope, intercept, r_value, p_value, std_err = linregress(df3[\"Weight (g)\"], df3[\"Avg Tumor Volume\"])\n",
    "forecast = slope * df3[\"Weight (g)\"] + intercept\n",
    "\n",
    "\n",
    "plt.plot(df3[\"Weight (g)\"], forecast, color='r', label=\"Linear Regression Line\")\n",
    "\n"
   ]
  }
 ],
 "metadata": {
  "anaconda-cloud": {},
  "kernelspec": {
   "display_name": "PythonData",
   "language": "python",
   "name": "python3"
  },
  "language_info": {
   "codemirror_mode": {
    "name": "ipython",
    "version": 3
   },
   "file_extension": ".py",
   "mimetype": "text/x-python",
   "name": "python",
   "nbconvert_exporter": "python",
   "pygments_lexer": "ipython3",
   "version": "3.11.5"
  }
 },
 "nbformat": 4,
 "nbformat_minor": 4
}
